{
 "cells": [
  {
   "cell_type": "code",
   "execution_count": 1,
   "metadata": {},
   "outputs": [],
   "source": [
    "import requests\n",
    "from bs4 import BeautifulSoup\n",
    "import pandas as pd"
   ]
  },
  {
   "cell_type": "code",
   "execution_count": 5,
   "metadata": {},
   "outputs": [],
   "source": [
    "with open('content3.html','r', encoding='utf-8') as f:\n",
    "    response = f.read()\n",
    "soup = BeautifulSoup(response, 'html.parser')\n"
   ]
  },
  {
   "cell_type": "code",
   "execution_count": 13,
   "metadata": {},
   "outputs": [],
   "source": [
    "html_fragment = soup.find_all(class_='row_card')"
   ]
  },
  {
   "cell_type": "code",
   "execution_count": 29,
   "metadata": {},
   "outputs": [
    {
     "data": {
      "text/plain": [
       "'02-2055/2016∼М-55672/2016'"
      ]
     },
     "execution_count": 29,
     "metadata": {},
     "output_type": "execute_result"
    }
   ],
   "source": [
    "html_fragment[1].find( class_='right').get_text(strip=True).replace('\\n','').replace(' ','')"
   ]
  },
  {
   "cell_type": "code",
   "execution_count": 16,
   "metadata": {},
   "outputs": [
    {
     "data": {
      "text/plain": [
       "<div class=\"row_card\">\n",
       "<div class=\"left\">                Номер дела ~ материала\n",
       "    </div>\n",
       "<div class=\"right\">\n",
       "                    02-2055/2016\n",
       "\n",
       "            \n",
       "                            ∼                                     М-55672/2016                                    \n",
       "    </div>\n",
       "</div>"
      ]
     },
     "execution_count": 16,
     "metadata": {},
     "output_type": "execute_result"
    }
   ],
   "source": [
    "html_fragment[1]"
   ]
  },
  {
   "cell_type": "code",
   "execution_count": 131,
   "metadata": {},
   "outputs": [],
   "source": [
    "dict_values = {\n",
    "    'Уникальный идентификатор дела':None,\n",
    "    'Номер дела ~ материала': None,\n",
    "    'Номер жалобы': None,\n",
    "    'Истец':None,\n",
    "    \"Ответчик\": None,\n",
    "    'Заявитель':None,\n",
    "    'Cудья': None,\n",
    "    'Статья КоАП РФ': None,\n",
    "    'Суд, вынесший решение':None,\n",
    "    'Категория дела': None,\n",
    "    'Текущее состояние':None,\n",
    "    'Результат рассмотрения':None\n",
    "\n",
    "}"
   ]
  },
  {
   "cell_type": "code",
   "execution_count": 132,
   "metadata": {},
   "outputs": [
    {
     "data": {
      "text/plain": [
       "{'Уникальный идентификатор дела': '77RS0020-01-2016-008801-05',\n",
       " 'Номер дела ~ материала': None,\n",
       " 'Номер жалобы': None,\n",
       " 'Истец': None,\n",
       " 'Ответчик': None,\n",
       " 'Заявитель': '\"Сбербанк России\" в лице филиала Московского банка ОАО \"Сбербанк России\"',\n",
       " 'Cудья': 'Примак В.Г.',\n",
       " 'Категория дела': '237 - Иные дела особого производства',\n",
       " 'Текущее состояние': 'Удовлетворено, 30.03.2016',\n",
       " 'Результат рассмотрения': None,\n",
       " 'Суд, вынесший решение': None}"
      ]
     },
     "execution_count": 132,
     "metadata": {},
     "output_type": "execute_result"
    }
   ],
   "source": [
    "html_fragment = soup.find_all(class_='row_card')\n",
    "\n",
    "for html in html_fragment:\n",
    "\n",
    "    key = html.find(class_='left').get_text(strip=True)\n",
    "    \n",
    "    if key == 'Номер дела ~ материала':\n",
    "        key = key.replace('\\n','').replace(' ','')\n",
    "        \n",
    "    if key in dict_values.keys():\n",
    "        value = html.find(class_='right').get_text(strip=True)\n",
    "        dict_values[key] = value\n",
    "        \n",
    "    if key == 'Стороны':\n",
    "        strong_tags = html.find_all('strong')\n",
    "        for strong_tag in strong_tags:\n",
    "            text = strong_tag.get_text(strip=True)\n",
    "            next_sibling = strong_tag.next_sibling\n",
    "            if 'Истец' in text[:5]:\n",
    "                dict_values['Истец'] = next_sibling.strip() if next_sibling else None\n",
    "            if 'Ответ' in text[:5]:\n",
    "                dict_values['Ответчик'] = next_sibling.strip() if next_sibling else None\n",
    "            if 'Заявител' in text[:8]:\n",
    "                dict_values['Заявитель'] = next_sibling.strip() if next_sibling else None\n",
    "\n",
    "\n",
    "dict_values"
   ]
  },
  {
   "cell_type": "code",
   "execution_count": 40,
   "metadata": {},
   "outputs": [
    {
     "data": {
      "text/plain": [
       "{'id': None,\n",
       " 'Уникальный идентификатор дела': '77RS0017-01-2016-016888-56',\n",
       " 'Номер дела ~ материала': '02-2055/2016∼М-55672/2016',\n",
       " 'Номер жалобы': None,\n",
       " 'Истец': 'Сбербанк России',\n",
       " 'Ответчик': 'Касаримова А. Н.',\n",
       " 'Заявитель': None,\n",
       " 'Cудья': 'Клинцова И.В.',\n",
       " 'Статья КоАП РФ': None,\n",
       " 'Суд, вынесший решение': None,\n",
       " 'Категория дела': '213 - О взыскании сумм по договору займа, кредитному договору',\n",
       " 'Текущее состояние': 'Удовлетворено, 02.03.2016',\n",
       " 'Результат рассмотрения': None,\n",
       " 'path': None}"
      ]
     },
     "execution_count": 40,
     "metadata": {},
     "output_type": "execute_result"
    }
   ],
   "source": [
    "def get_info(html_fragment):\n",
    "    dict_values = {\n",
    "    'id': None,\n",
    "    'Уникальный идентификатор дела':None,\n",
    "    'Номер дела ~ материала': None,\n",
    "    'Номер жалобы': None,\n",
    "    'Истец':None,\n",
    "    \"Ответчик\": None,\n",
    "    'Заявитель':None,\n",
    "    'Cудья': None,\n",
    "    'Статья КоАП РФ': None,\n",
    "    'Суд, вынесший решение':None,\n",
    "    'Категория дела': None,\n",
    "    'Текущее состояние':None,\n",
    "    'Результат рассмотрения':None,\n",
    "    'path':None}\n",
    "\n",
    "    html_fragment = soup.find_all(class_='row_card') # ищем всю нужную информацию \n",
    "\n",
    "    for html in html_fragment:\n",
    "\n",
    "        key = html.find(class_='left').get_text(strip=True)   \n",
    "            \n",
    "        if key in dict_values.keys():\n",
    "            value = html.find(class_='right').get_text(strip=True)\n",
    "            dict_values[key] = value\n",
    "        \n",
    "        if key == 'Номер дела ~ материала' or key == 'Номер дела':\n",
    "            value_ = html.find(class_='right').get_text(strip=True).replace('\\n','').replace(' ','')\n",
    "            dict_values['Номер дела ~ материала'] = value_\n",
    "            \n",
    "        if key == 'Стороны': # обработка поля Стороны\n",
    "            strong_tags = html.find_all('strong')\n",
    "            for strong_tag in strong_tags:\n",
    "                text = strong_tag.get_text(strip=True)\n",
    "                next_sibling = strong_tag.next_sibling\n",
    "                if 'Истец' in text[:5]:\n",
    "                    dict_values['Истец'] = next_sibling.strip() if next_sibling else None\n",
    "                if 'Ответ' in text[:5]:\n",
    "                    dict_values['Ответчик'] = next_sibling.strip() if next_sibling else None\n",
    "                if 'Заявител' in text[:8]:\n",
    "                    dict_values['Заявитель'] = next_sibling.strip() if next_sibling else None\n",
    "\n",
    "    return dict_values\n",
    "get_info(soup)"
   ]
  },
  {
   "cell_type": "code",
   "execution_count": 12,
   "metadata": {},
   "outputs": [
    {
     "data": {
      "text/plain": [
       "[['77RS0017-01-2016-016888-56',\n",
       "  None,\n",
       "  None,\n",
       "  'Сбербанк России',\n",
       "  'Касаримова А. Н.',\n",
       "  None,\n",
       "  'Клинцова И.В.',\n",
       "  None,\n",
       "  None,\n",
       "  '213 - О взыскании сумм по договору займа, кредитному договору',\n",
       "  'Удовлетворено, 02.03.2016',\n",
       "  None]]"
      ]
     },
     "execution_count": 12,
     "metadata": {},
     "output_type": "execute_result"
    }
   ],
   "source": [
    "info = get_info(soup)\n",
    "[list(info.values())]"
   ]
  },
  {
   "cell_type": "code",
   "execution_count": 53,
   "metadata": {},
   "outputs": [
    {
     "ename": "SyntaxError",
     "evalue": "EOL while scanning string literal (1812394387.py, line 4)",
     "output_type": "error",
     "traceback": [
      "\u001b[1;36m  Cell \u001b[1;32mIn[53], line 4\u001b[1;36m\u001b[0m\n\u001b[1;33m    path_for_bd = '\\'.join(path_for_bd)\u001b[0m\n\u001b[1;37m                                       ^\u001b[0m\n\u001b[1;31mSyntaxError\u001b[0m\u001b[1;31m:\u001b[0m EOL while scanning string literal\n"
     ]
    }
   ],
   "source": [
    "suggested_filename = 'abd'\n",
    "save_directory = rf'C:\\Data\\Visual Studio\\Kursova_2\\documents\\{suggested_filename}'\n",
    "path_for_bd = save_directory.split('\\\\')[-2:]\n",
    "path_for_bd = '\\\\'.join(path_for_bd)\n",
    "path_for_bd"
   ]
  },
  {
   "cell_type": "code",
   "execution_count": null,
   "metadata": {},
   "outputs": [],
   "source": [
    "# Уникальный_идентификатор_дела varchar(50) DEFAULT NULL,\n",
    "#             Номер_дела varchar(50) DEFAULT NULL,\n",
    "#             Истец varchar(200) DEFAULT NULL,\n",
    "#             Ответчик varchar(200) DEFAULT NULL,\n",
    "#             Судья varchar(20) DEFAULT NULL,\n",
    "#             Статья_КоАП_РФ varchar(50) DEFAULT NULL,\n",
    "#             Категория_дела varchar(100) DEFAULT NULL,\n",
    "#             Текущее_состояние varchar(100) DEFAULT NULL,\n",
    "#             Результат_рассмотрения varchar(100) DEFAULT NULL,\n",
    "#             Ссылка_на_документ varchar(50) DEFAULT NULL\n",
    "#             Номер жалобы\n",
    "#               Суд, вынесший решение"
   ]
  },
  {
   "cell_type": "code",
   "execution_count": 93,
   "metadata": {},
   "outputs": [
    {
     "name": "stdout",
     "output_type": "stream",
     "text": [
      "Истец: Сбербанк России\n",
      "Ответчик: Касаримова А. Н.\n"
     ]
    }
   ],
   "source": [
    "from bs4 import BeautifulSoup\n",
    "\n",
    "html_fragment = '''\n",
    "<div class=\"right\"><strong>Истец: </strong>Сбербанк России<br/><strong>Ответчик: </strong>Касаримова А. Н.<br/></div>\n",
    "'''\n",
    "\n",
    "soup = BeautifulSoup(html_fragment, 'html.parser')\n",
    "\n",
    "# Функция для извлечения информации об истце и ответчике\n",
    "def extract_party_info(html_content):\n",
    "    # Парсинг HTML-фрагмента\n",
    "    soup = BeautifulSoup(html_content, 'html.parser')\n",
    "    right_div = soup.find('div', class_='right')\n",
    "    if not right_div:\n",
    "        return \"Информация не найдена.\"\n",
    "    \n",
    "    result = {}\n",
    "    \n",
    "    # Ищем все теги <strong> и анализируем их содержимое\n",
    "    strong_tags = right_div.find_all('strong')\n",
    "    for strong_tag in strong_tags:\n",
    "        text = strong_tag.get_text(strip=True)\n",
    "        next_sibling = strong_tag.next_sibling\n",
    "        \n",
    "        if 'Истец:' in text:\n",
    "            result['Истец'] = next_sibling.strip() if next_sibling else 'не указан'\n",
    "        elif 'Ответчик:' in text:\n",
    "            result['Ответчик'] = next_sibling.strip() if next_sibling else 'не указан'\n",
    "    \n",
    "    return result\n",
    "\n",
    "info = extract_party_info(html_fragment)\n",
    "\n",
    "for key, value in info.items():\n",
    "    print(f\"{key}: {value}\")\n"
   ]
  },
  {
   "cell_type": "code",
   "execution_count": 95,
   "metadata": {},
   "outputs": [],
   "source": [
    "soup = BeautifulSoup(html_fragment, 'html.parser')\n",
    "right_div = soup.find('div', class_='right')\n",
    "if not right_div:\n",
    "    print(\"Информация не найдена.\")\n",
    "\n",
    "result = {}\n",
    "\n",
    "# Ищем все теги <strong> и анализируем их содержимое\n",
    "strong_tags = right_div.find_all('strong')\n",
    "for strong_tag in strong_tags:\n",
    "    text = strong_tag.get_text(strip=True)\n",
    "    next_sibling = strong_tag.next_sibling\n",
    "    \n",
    "    if 'Истец' in text[:5]:\n",
    "        result['Истец'] = next_sibling.strip() if next_sibling else 'не указан'\n",
    "    elif 'Ответ' in text[:5]:\n",
    "        result['Ответчик'] = next_sibling.strip() if next_sibling else 'не указан'"
   ]
  },
  {
   "cell_type": "code",
   "execution_count": 99,
   "metadata": {},
   "outputs": [
    {
     "data": {
      "text/plain": [
       "'Истец:'"
      ]
     },
     "execution_count": 99,
     "metadata": {},
     "output_type": "execute_result"
    }
   ],
   "source": [
    "strong_tags[0].get_text(strip=True)"
   ]
  },
  {
   "cell_type": "code",
   "execution_count": 100,
   "metadata": {},
   "outputs": [
    {
     "data": {
      "text/plain": [
       "'Сбербанк России'"
      ]
     },
     "execution_count": 100,
     "metadata": {},
     "output_type": "execute_result"
    }
   ],
   "source": [
    "strong_tags[0].next_sibling"
   ]
  },
  {
   "cell_type": "code",
   "execution_count": 110,
   "metadata": {},
   "outputs": [
    {
     "data": {
      "text/plain": [
       "False"
      ]
     },
     "execution_count": 110,
     "metadata": {},
     "output_type": "execute_result"
    }
   ],
   "source": [
    "'Ответ:' in text"
   ]
  },
  {
   "cell_type": "code",
   "execution_count": 116,
   "metadata": {},
   "outputs": [
    {
     "data": {
      "text/plain": [
       "'Истец'"
      ]
     },
     "execution_count": 116,
     "metadata": {},
     "output_type": "execute_result"
    }
   ],
   "source": [
    "'Истец:'[:5]\n"
   ]
  },
  {
   "cell_type": "code",
   "execution_count": 113,
   "metadata": {},
   "outputs": [
    {
     "data": {
      "text/plain": [
       "'Ответ'"
      ]
     },
     "execution_count": 113,
     "metadata": {},
     "output_type": "execute_result"
    }
   ],
   "source": [
    "\"Ответчик\"[:5]"
   ]
  },
  {
   "cell_type": "code",
   "execution_count": null,
   "metadata": {},
   "outputs": [],
   "source": []
  }
 ],
 "metadata": {
  "kernelspec": {
   "display_name": "Python 3",
   "language": "python",
   "name": "python3"
  },
  "language_info": {
   "codemirror_mode": {
    "name": "ipython",
    "version": 3
   },
   "file_extension": ".py",
   "mimetype": "text/x-python",
   "name": "python",
   "nbconvert_exporter": "python",
   "pygments_lexer": "ipython3",
   "version": "3.9.9"
  }
 },
 "nbformat": 4,
 "nbformat_minor": 2
}
