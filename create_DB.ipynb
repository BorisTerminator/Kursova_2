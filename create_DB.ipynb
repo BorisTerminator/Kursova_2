{
 "cells": [
  {
   "cell_type": "code",
   "execution_count": 5,
   "metadata": {},
   "outputs": [],
   "source": [
    "import sqlite3"
   ]
  },
  {
   "cell_type": "code",
   "execution_count": 6,
   "metadata": {},
   "outputs": [],
   "source": [
    "conn = sqlite3.connect('legal_cases.db')\n",
    "cursor = conn.cursor()\n",
    "cursor.execute('''CREATE TABLE IF NOT EXISTS collection\n",
    "            (\n",
    "            id INTEGER PRIMARY KEY AUTOINCREMENT,\n",
    "            Уникальный_идентификатор_дела varchar(50) DEFAULT NULL,\n",
    "            Номер_дела varchar(50) DEFAULT NULL,\n",
    "            Номер_жалобы varchar(50) DEFAULT NULL,\n",
    "            Истец varchar(200) DEFAULT NULL,\n",
    "            Ответчик varchar(200) DEFAULT NULL,\n",
    "            Заявитель varchar(200) DEFAULT NULL,\n",
    "            Судья varchar(20) DEFAULT NULL,\n",
    "            Статья_КоАП_РФ varchar(50) DEFAULT NULL,\n",
    "            Суд_вынесший_решение varchar(50) DEFAULT NULL,\n",
    "            Категория_дела varchar(100) DEFAULT NULL,\n",
    "            Текущее_состояние varchar(100) DEFAULT NULL,\n",
    "            Результат_рассмотрения varchar(100) DEFAULT NULL,\n",
    "            Ссылка_на_документ varchar(50) DEFAULT NULL,\n",
    "            Законы varchar(200)\n",
    "            )''')\n",
    "conn.commit()\n",
    "conn.close()\n"
   ]
  },
  {
   "cell_type": "code",
   "execution_count": 2,
   "metadata": {},
   "outputs": [
    {
     "data": {
      "text/plain": [
       "26"
      ]
     },
     "execution_count": 2,
     "metadata": {},
     "output_type": "execute_result"
    }
   ],
   "source": [
    "len('77RS0016-02-2022-024161-64')"
   ]
  },
  {
   "cell_type": "code",
   "execution_count": 3,
   "metadata": {},
   "outputs": [],
   "source": [
    "import sqlite3\n",
    "\n",
    "# Подключение к базе данных (или создание, если она не существует)\n",
    "conn = sqlite3.connect('legal_cases.db')\n",
    "\n",
    "# Создание объекта курсора\n",
    "cursor = conn.cursor()\n",
    "\n",
    "# Добавление столбца email в таблицу users\n",
    "cursor.execute('''ALTER TABLE collection ADD COLUMN Номер_жалобы varchar(50)''')\n",
    "\n",
    "# Добавление столбца age в таблицу users\n",
    "cursor.execute('''ALTER TABLE collection ADD COLUMN Суд_вынесший_решение varchar(50)''')\n",
    "\n",
    "# Сохранение изменений\n",
    "conn.commit()\n",
    "\n",
    "# Закрытие подключения к базе данных\n",
    "conn.close()\n"
   ]
  },
  {
   "cell_type": "code",
   "execution_count": null,
   "metadata": {},
   "outputs": [],
   "source": []
  }
 ],
 "metadata": {
  "kernelspec": {
   "display_name": "Python 3",
   "language": "python",
   "name": "python3"
  },
  "language_info": {
   "codemirror_mode": {
    "name": "ipython",
    "version": 3
   },
   "file_extension": ".py",
   "mimetype": "text/x-python",
   "name": "python",
   "nbconvert_exporter": "python",
   "pygments_lexer": "ipython3",
   "version": "3.9.9"
  }
 },
 "nbformat": 4,
 "nbformat_minor": 2
}
